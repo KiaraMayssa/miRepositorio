{
 "cells": [
  {
   "cell_type": "code",
   "execution_count": 1,
   "id": "b9b68a64-69be-4eec-a79d-d2a1d3bf783e",
   "metadata": {},
   "outputs": [
    {
     "name": "stdout",
     "output_type": "stream",
     "text": [
      "{'nombre': 'Juan Sanchez', 'matricula': 1294345, 'fechaalta': '16/08/2020'}\n"
     ]
    }
   ],
   "source": [
    "#Estructura de datos que nos permite guardar diferentes tipos de datos\n",
    "#de manera organizada y tiene llaves que identifican los diferentes datos\n",
    "\n",
    "datosAlumnos={\"nombre\":\"Juan Sanchez\", \"matricula\":1294345, \"fechaalta\":\"16/08/2020\"}\n",
    "print(datosAlumnos)"
   ]
  },
  {
   "cell_type": "code",
   "execution_count": 3,
   "id": "3037ceda-350b-4491-a625-27504e910df2",
   "metadata": {},
   "outputs": [
    {
     "name": "stdout",
     "output_type": "stream",
     "text": [
      "{'codigo': '39089', 'descripcion': 'Jabon dove', 'Precio': 29.9}\n"
     ]
    }
   ],
   "source": [
    "datosProducto={\"codigo\":\"39089\",\"descripcion\":\"Jabon dove\",\"Precio\":29.90}\n",
    "print(datosProducto)"
   ]
  },
  {
   "cell_type": "code",
   "execution_count": 5,
   "id": "1b2d1b84-6761-403a-9053-80db28ac1b19",
   "metadata": {},
   "outputs": [
    {
     "name": "stdout",
     "output_type": "stream",
     "text": [
      "Juan Sanchez\n"
     ]
    }
   ],
   "source": [
    "print(datosAlumnos[\"nombre\"])\n",
    "\n",
    "      "
   ]
  },
  {
   "cell_type": "code",
   "execution_count": 7,
   "id": "e6459c1e-8a5e-48d3-995f-a1b37eb61736",
   "metadata": {},
   "outputs": [
    {
     "name": "stdout",
     "output_type": "stream",
     "text": [
      "1294345\n"
     ]
    }
   ],
   "source": [
    "print(datosAlumnos[\"matricula\"])"
   ]
  },
  {
   "cell_type": "code",
   "execution_count": 9,
   "id": "597f4fcc-78b2-43db-af67-7906eeb16f7a",
   "metadata": {},
   "outputs": [
    {
     "name": "stdout",
     "output_type": "stream",
     "text": [
      "Jabon dove\n"
     ]
    }
   ],
   "source": [
    "print(datosProducto[\"descripcion\"])"
   ]
  },
  {
   "cell_type": "code",
   "execution_count": 10,
   "id": "c9db8916-9e8a-4bae-95ab-0e8e12c72365",
   "metadata": {},
   "outputs": [
    {
     "name": "stdout",
     "output_type": "stream",
     "text": [
      "29.9\n"
     ]
    }
   ],
   "source": [
    "print(datosProducto[\"Precio\"])"
   ]
  },
  {
   "cell_type": "code",
   "execution_count": 11,
   "id": "80bfcb8a-4d65-49d9-84c3-d29184d839e0",
   "metadata": {},
   "outputs": [
    {
     "name": "stdout",
     "output_type": "stream",
     "text": [
      "codigo\n",
      "descripcion\n",
      "Precio\n"
     ]
    }
   ],
   "source": [
    "for dato in datosProducto:\n",
    "    print(dato)"
   ]
  },
  {
   "cell_type": "code",
   "execution_count": 13,
   "id": "f4a051e8-ab2b-4454-9bb1-d132c59239d0",
   "metadata": {},
   "outputs": [
    {
     "name": "stdout",
     "output_type": "stream",
     "text": [
      "codigo = 39089\n",
      "descripcion = Jabon dove\n",
      "Precio = 29.9\n"
     ]
    }
   ],
   "source": [
    "for dato in datosProducto:\n",
    "    print(dato,\"=\",datosProducto[dato])"
   ]
  },
  {
   "cell_type": "code",
   "execution_count": 17,
   "id": "abbf8b63-3f74-487a-9b2f-7bc83062e6c2",
   "metadata": {},
   "outputs": [
    {
     "name": "stdout",
     "output_type": "stream",
     "text": [
      "dict_keys(['codigo', 'descripcion', 'Precio'])\n"
     ]
    }
   ],
   "source": [
    "print(datosProducto.keys())"
   ]
  },
  {
   "cell_type": "code",
   "execution_count": 19,
   "id": "53be46f3-a5d1-4c72-b59f-220a3326b3da",
   "metadata": {},
   "outputs": [
    {
     "name": "stdout",
     "output_type": "stream",
     "text": [
      "dict_values(['39089', 'Jabon dove', 29.9])\n"
     ]
    }
   ],
   "source": [
    "print(datosProducto.values())"
   ]
  },
  {
   "cell_type": "code",
   "execution_count": 21,
   "id": "b69293d0-1121-4b6b-b122-dd0467aab509",
   "metadata": {},
   "outputs": [
    {
     "data": {
      "text/plain": [
       "29.9"
      ]
     },
     "execution_count": 21,
     "metadata": {},
     "output_type": "execute_result"
    }
   ],
   "source": [
    "datosProducto.pop(\"Precio\")"
   ]
  },
  {
   "cell_type": "code",
   "execution_count": 22,
   "id": "1abba8ba-4690-48d1-8b64-522aa9b6fb2d",
   "metadata": {},
   "outputs": [
    {
     "name": "stdout",
     "output_type": "stream",
     "text": [
      "{'codigo': '39089', 'descripcion': 'Jabon dove'}\n"
     ]
    }
   ],
   "source": [
    "print(datosProducto)"
   ]
  },
  {
   "cell_type": "code",
   "execution_count": 28,
   "id": "fa02f767-e4a0-4db8-9c3e-42a8cf0d8257",
   "metadata": {},
   "outputs": [],
   "source": [
    "datosAlumnos.update(datosProducto)"
   ]
  },
  {
   "cell_type": "code",
   "execution_count": 29,
   "id": "de42414e-e5d0-47f8-acd9-63da87577eb1",
   "metadata": {},
   "outputs": [
    {
     "name": "stdout",
     "output_type": "stream",
     "text": [
      "{'nombre': 'Juan Sanchez', 'matricula': 1294345, 'fechaalta': '16/08/2020', 'codigo': '39089', 'descripcion': 'Jabon dove'}\n"
     ]
    }
   ],
   "source": [
    "print(datosAlumnos)"
   ]
  },
  {
   "cell_type": "code",
   "execution_count": 30,
   "id": "0e94a49f-a181-4114-a16a-27efa3dc9757",
   "metadata": {},
   "outputs": [
    {
     "data": {
      "text/plain": [
       "{'nombre': 'Juan Sanchez',\n",
       " 'matricula': 1294345,\n",
       " 'fechaalta': '16/08/2020',\n",
       " 'codigo': '39089'}"
      ]
     },
     "execution_count": 30,
     "metadata": {},
     "output_type": "execute_result"
    }
   ],
   "source": [
    "datosAlumnos.popitem()\n",
    "datos"
   ]
  },
  {
   "cell_type": "code",
   "execution_count": 31,
   "id": "0c32e50a-01c8-469a-b5ca-cc879ddc635e",
   "metadata": {},
   "outputs": [
    {
     "data": {
      "text/plain": [
       "{'codigo': 38098, 'descripcion': 'Jabon dove'}"
      ]
     },
     "execution_count": 31,
     "metadata": {},
     "output_type": "execute_result"
    }
   ],
   "source": [
    "datosProducto[\"codigo\"]=38098\n",
    "datosProducto"
   ]
  },
  {
   "cell_type": "code",
   "execution_count": 40,
   "id": "f066da00-42f8-47c8-85ce-c848b72b1478",
   "metadata": {},
   "outputs": [
    {
     "data": {
      "text/plain": [
       "{'house': 'casa', 'school': 'escuela', 'water': 'agua', 'sky': 'cielo'}"
      ]
     },
     "execution_count": 40,
     "metadata": {},
     "output_type": "execute_result"
    }
   ],
   "source": [
    "DiccionarioINGESP={\n",
    "\"house\":\"casa\",\n",
    "\"school\":\"escuela\",\n",
    "\"water\":\"agua\",\n",
    "\"sky\":\"cielo\"}\n",
    "DiccionarioINGESP\n"
   ]
  },
  {
   "cell_type": "code",
   "execution_count": 41,
   "id": "94e82f2d-a4cc-4842-be8e-63d0c0cd04d2",
   "metadata": {},
   "outputs": [
    {
     "data": {
      "text/plain": [
       "'cielo'"
      ]
     },
     "execution_count": 41,
     "metadata": {},
     "output_type": "execute_result"
    }
   ],
   "source": [
    "DiccionarioINGESP[\"sky\"]"
   ]
  },
  {
   "cell_type": "code",
   "execution_count": null,
   "id": "9fe50fd6-f1ee-48f0-82c2-ff11c71de8af",
   "metadata": {},
   "outputs": [],
   "source": []
  }
 ],
 "metadata": {
  "kernelspec": {
   "display_name": "Python 3 (ipykernel)",
   "language": "python",
   "name": "python3"
  },
  "language_info": {
   "codemirror_mode": {
    "name": "ipython",
    "version": 3
   },
   "file_extension": ".py",
   "mimetype": "text/x-python",
   "name": "python",
   "nbconvert_exporter": "python",
   "pygments_lexer": "ipython3",
   "version": "3.12.0"
  }
 },
 "nbformat": 4,
 "nbformat_minor": 5
}

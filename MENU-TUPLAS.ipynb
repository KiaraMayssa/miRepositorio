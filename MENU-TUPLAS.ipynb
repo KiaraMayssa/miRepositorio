{
 "cells": [
  {
   "cell_type": "code",
   "execution_count": null,
   "id": "96bffe25-b437-42f8-a3b8-546414c81003",
   "metadata": {},
   "outputs": [
    {
     "name": "stdout",
     "output_type": "stream",
     "text": [
      "       MENU\n",
      "1-Crear tupla\n",
      "2-Buscar elemento\n",
      "3-Mostrar tupla\n",
      "4-Salir\n"
     ]
    },
    {
     "name": "stdin",
     "output_type": "stream",
     "text": [
      "Que opcion desea realizar? 1\n"
     ]
    },
    {
     "name": "stdout",
     "output_type": "stream",
     "text": [
      "  Crear tupla\n",
      "Inserte 5 datos\n"
     ]
    },
    {
     "name": "stdin",
     "output_type": "stream",
     "text": [
      "Escriba los datos que quiera agregar:  12\n",
      "Escriba los datos que quiera agregar:  14\n",
      "Escriba los datos que quiera agregar:  16\n",
      "Escriba los datos que quiera agregar:  18\n",
      "Escriba los datos que quiera agregar:  20\n"
     ]
    }
   ],
   "source": [
    "print(\"       MENU\")\n",
    "print(\"1-Crear tupla\")\n",
    "print(\"2-Buscar elemento\")\n",
    "print(\"3-Mostrar tupla\")\n",
    "print(\"4-Salir\")\n",
    "tupla=[]\n",
    "while True:\n",
    "    op=input(\"Que opcion desea realizar?\")\n",
    "    if op==\"1\":\n",
    "        print(\"  Crear tupla\")\n",
    "        print(\"Inserte 5 datos\")\n",
    "        for i in range(5):\n",
    "            d=int(input(\"Escriba los datos que quiera agregar: \"))\n",
    "            tupla.append(d)\n",
    "            lista=tuple(tupla)\n",
    "    if op==\"2\":\n",
    "        print(\" Buscar elemento\")\n",
    "        po=int(input(\"Escriba el dato que quiera buscar\"))\n",
    "        print(\"El dato esta en la posicion:\",(tupla.index(po)))\n",
    "    if op==\"3\":\n",
    "        print(\" Mostrar Tupla\")\n",
    "        print(lista)\n",
    "    if op==\"4\":\n",
    "        print(\"      *SALIR*\")\n",
    "        break\n",
    "else:\n",
    " print(\"ERROR: No existe la opcion, intente de nuevo\")\n",
    "\n"
   ]
  },
  {
   "cell_type": "code",
   "execution_count": null,
   "id": "2b846b0f-1980-4b49-ba54-ed4f037e5bbd",
   "metadata": {},
   "outputs": [],
   "source": []
  }
 ],
 "metadata": {
  "kernelspec": {
   "display_name": "Python 3 (ipykernel)",
   "language": "python",
   "name": "python3"
  },
  "language_info": {
   "codemirror_mode": {
    "name": "ipython",
    "version": 3
   },
   "file_extension": ".py",
   "mimetype": "text/x-python",
   "name": "python",
   "nbconvert_exporter": "python",
   "pygments_lexer": "ipython3",
   "version": "3.12.0"
  }
 },
 "nbformat": 4,
 "nbformat_minor": 5
}

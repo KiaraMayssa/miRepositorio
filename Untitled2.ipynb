{
 "cells": [
  {
   "cell_type": "code",
   "execution_count": 18,
   "id": "d8029eef-003c-4abe-a0ab-60885bc49cc7",
   "metadata": {},
   "outputs": [
    {
     "ename": "TypeError",
     "evalue": "'str' object is not callable",
     "output_type": "error",
     "traceback": [
      "\u001b[1;31m---------------------------------------------------------------------------\u001b[0m",
      "\u001b[1;31mTypeError\u001b[0m                                 Traceback (most recent call last)",
      "Cell \u001b[1;32mIn[18], line 2\u001b[0m\n\u001b[0;32m      1\u001b[0m \u001b[38;5;28;01mimport\u001b[39;00m \u001b[38;5;21;01mpandas\u001b[39;00m \u001b[38;5;28;01mas\u001b[39;00m \u001b[38;5;21;01mpd\u001b[39;00m\n\u001b[1;32m----> 2\u001b[0m \u001b[38;5;28;43mprint\u001b[39;49m\u001b[43m(\u001b[49m\u001b[38;5;124;43m\"\u001b[39;49m\u001b[38;5;124;43m      MENU\u001b[39;49m\u001b[38;5;124;43m\"\u001b[39;49m\u001b[43m)\u001b[49m\n\u001b[0;32m      3\u001b[0m \u001b[38;5;28mprint\u001b[39m(\u001b[38;5;124m\"\u001b[39m\u001b[38;5;124m1.-Leer archivo\u001b[39m\u001b[38;5;124m\"\u001b[39m)\n\u001b[0;32m      4\u001b[0m \u001b[38;5;28mprint\u001b[39m(\u001b[38;5;124m\"\u001b[39m\u001b[38;5;124m2.-Mostrar registros\u001b[39m\u001b[38;5;124m\"\u001b[39m)\n",
      "\u001b[1;31mTypeError\u001b[0m: 'str' object is not callable"
     ]
    }
   ],
   "source": [
    "import pandas as pd\n",
    "print(\"      MENU\")\n",
    "print(\"1.-Leer archivo\")\n",
    "print(\"2.-Mostrar registros\")\n",
    "print(\"3.-Calcular datos estadisticos\") \n",
    "print(\"4.-Hacer consulta\")\n",
    "print(\"5.-Salir\")\n",
    "tabla=pd.read_csv(\"ComidaRapida.csv\") \n",
    "while True:\n",
    "    p=input(\"Seleccione una opcion\")\n",
    "    if p==\"1\":\n",
    "        print(\"LEER ARCHIVO\") \n",
    "        print(tabla)\n",
    "    if p==\"2\":\n",
    "        print(\"MOSTRAR REGISTRO\") \n",
    "        x=int(input(\"Cuantos datos quiere mostrar?\"))\n",
    "        print(tabla.head(x))\n",
    "    if p==\"3\":\n",
    "        print(\"CALCULAR DATOS ESTADISTICOS\")\n",
    "        print(\"Que desea calcular?\") \n",
    "        print(\"a)Promedio\")\n",
    "        print(\"b)Dto Maximo\")\n",
    "        print(\"c)Dto Minimo\")\n",
    "        print(\"d)Mediana\") \n",
    "        print(\"e)Descripcion\") \n",
    "        print(\"f)Salir\")\n",
    "        op=input()\n",
    "        if op=='a':\n",
    "            print(\"Promedio\")\n",
    "            celda=input(\"Escriba la celda que quiera calcular\") \n",
    "            print(tabla[celda].mean())\n",
    "        if op=='b':\n",
    "            print(\"Dato Maximo\")\n",
    "            celda=input(\"Escriba la celda que quiera calcular\") \n",
    "            print(tabla[celda].max())\n",
    "        if op=='c':\n",
    "            print(\"Dato minimo\")\n",
    "            print(tabla[\"Dato Minimo\"].min())\n",
    "        if op=='d':\n",
    "            print(\"Mediana\")\n",
    "            print(tabla[\"Mediana\"].median())\n",
    "        if op=='e':\n",
    "            print(\"Descripcion\")\n",
    "            print(tabla[\"Descripcion\"].describe())\n",
    "        if op=='f':\n",
    "            print(\"SALIR\")\n",
    "    if p==\"4\":\n",
    "        print(\"Hacer consulta\")\n",
    "        print(\"a)Mayor a\")\n",
    "        print(\"b)Menor a\")\n",
    "        preg=input(\"Que opcion desea realizar\")\n",
    "        if preg=='a':\n",
    "            max=input(\"Desea observar los datos mayores a:\")\n",
    "            print(tabla[\"Datos mayores a\", max]>(max))\n",
    "        if preg=='b':\n",
    "            min=input(\"Desea observar los datos menores a:\")\n",
    "            print(tabla[\"Datos menores a\", min]<(min))\n",
    "    if p==\"5\":\n",
    "        print(\"  SALIR\")\n",
    "        break\n",
    "else:\n",
    "    print(\"ERROR: INTENTE DE NUEVO\")"
   ]
  },
  {
   "cell_type": "code",
   "execution_count": null,
   "id": "aa371888-2d95-4582-9a48-3be6774fe2ab",
   "metadata": {},
   "outputs": [],
   "source": []
  }
 ],
 "metadata": {
  "kernelspec": {
   "display_name": "Python 3 (ipykernel)",
   "language": "python",
   "name": "python3"
  },
  "language_info": {
   "codemirror_mode": {
    "name": "ipython",
    "version": 3
   },
   "file_extension": ".py",
   "mimetype": "text/x-python",
   "name": "python",
   "nbconvert_exporter": "python",
   "pygments_lexer": "ipython3",
   "version": "3.12.0"
  }
 },
 "nbformat": 4,
 "nbformat_minor": 5
}

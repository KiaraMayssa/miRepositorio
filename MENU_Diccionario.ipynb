{
 "cells": [
  {
   "cell_type": "code",
   "execution_count": null,
   "id": "c2af82e1-526c-4e3c-b8a2-f4bf68beae57",
   "metadata": {},
   "outputs": [
    {
     "name": "stdout",
     "output_type": "stream",
     "text": [
      "    MENU\n",
      "1-Agregar elementos\n",
      "2-Buscar elemento\n",
      "3-Cambiar elemento\n",
      "4-Borrar elemento\n",
      "5-Mostrar diccionario\n",
      "6-Salir\n"
     ]
    },
    {
     "name": "stdin",
     "output_type": "stream",
     "text": [
      "Seleccione una opcion 1\n"
     ]
    },
    {
     "name": "stdout",
     "output_type": "stream",
     "text": [
      " *AGREGAR ELEMENTO*\n"
     ]
    },
    {
     "name": "stdin",
     "output_type": "stream",
     "text": [
      "Escriba la clave del dato edad\n",
      "Escriba la descripcion del dato 21\n",
      "Seleccione una opcion 1\n"
     ]
    },
    {
     "name": "stdout",
     "output_type": "stream",
     "text": [
      " *AGREGAR ELEMENTO*\n"
     ]
    },
    {
     "name": "stdin",
     "output_type": "stream",
     "text": [
      "Escriba la clave del dato nombre\n",
      "Escriba la descripcion del dato jonathan\n",
      "Seleccione una opcion 1\n"
     ]
    },
    {
     "name": "stdout",
     "output_type": "stream",
     "text": [
      " *AGREGAR ELEMENTO*\n"
     ]
    },
    {
     "name": "stdin",
     "output_type": "stream",
     "text": [
      "Escriba la clave del dato apellido\n",
      "Escriba la descripcion del dato munoz\n",
      "Seleccione una opcion 5\n"
     ]
    },
    {
     "name": "stdout",
     "output_type": "stream",
     "text": [
      " *MOSTRAR EL DICCIONARIO*\n",
      "edad = ['21']\n",
      "nombre = ['jonathan']\n",
      "apellido = ['munoz']\n"
     ]
    },
    {
     "name": "stdin",
     "output_type": "stream",
     "text": [
      "Seleccione una opcion 2\n"
     ]
    },
    {
     "name": "stdout",
     "output_type": "stream",
     "text": [
      " *BUSCAR ELEMENTO*\n"
     ]
    },
    {
     "name": "stdin",
     "output_type": "stream",
     "text": [
      "Escriba la clave del dato nombre\n"
     ]
    },
    {
     "name": "stdout",
     "output_type": "stream",
     "text": [
      "['jonathan']\n"
     ]
    },
    {
     "name": "stdin",
     "output_type": "stream",
     "text": [
      "Seleccione una opcion 3\n"
     ]
    },
    {
     "name": "stdout",
     "output_type": "stream",
     "text": [
      " *CAMBIAR ELEMENTO*\n"
     ]
    },
    {
     "name": "stdin",
     "output_type": "stream",
     "text": [
      "Escriba la clave del elemento que desea cambiar:  edad\n",
      "Ingrese el cambio del elemento:  22\n"
     ]
    },
    {
     "name": "stdout",
     "output_type": "stream",
     "text": [
      "Correccion completada :)\n"
     ]
    },
    {
     "name": "stdin",
     "output_type": "stream",
     "text": [
      "Seleccione una opcion 4\n"
     ]
    },
    {
     "name": "stdout",
     "output_type": "stream",
     "text": [
      " *BORRAR ELEMENTO*\n"
     ]
    },
    {
     "name": "stdin",
     "output_type": "stream",
     "text": [
      "Escriba la clave del dato que quiera eliminar:  edad\n"
     ]
    },
    {
     "name": "stdout",
     "output_type": "stream",
     "text": [
      "Opcion completada\n"
     ]
    },
    {
     "name": "stdin",
     "output_type": "stream",
     "text": [
      "Seleccione una opcion 5\n"
     ]
    },
    {
     "name": "stdout",
     "output_type": "stream",
     "text": [
      " *MOSTRAR EL DICCIONARIO*\n",
      "nombre = ['jonathan']\n",
      "apellido = ['munoz']\n"
     ]
    }
   ],
   "source": [
    "print(\"    MENU\")\n",
    "print(\"1-Agregar elementos\")\n",
    "print(\"2-Buscar elemento\")\n",
    "print(\"3-Cambiar elemento\")\n",
    "print(\"4-Borrar elemento\")\n",
    "print(\"5-Mostrar diccionario\")\n",
    "print(\"6-Salir\")\n",
    "dic={}\n",
    "while True:\n",
    "    op=input(\"Seleccione una opcion: \")\n",
    "    if op==\"1\":\n",
    "        print(\" *AGREGAR ELEMENTO*\")\n",
    "        key=input(\"Escriba la clave del dato: \")\n",
    "        des=input(\"Escriba la descripcion del dato: \")\n",
    "        dic[key]=[des]\n",
    "    if op==\"2\":\n",
    "        print(\" *BUSCAR ELEMENTO*\")\n",
    "        key=input(\"Escriba la clave del dato: \")\n",
    "        if key in dic:\n",
    "            clave=dic[key]\n",
    "            print(clave)\n",
    "        else:\n",
    "            print(\"ERROR: No se encontro el elemento\")\n",
    "    if op==\"3\":\n",
    "        print(\" *CAMBIAR ELEMENTO*\")\n",
    "        key=input(\"Escriba la clave del elemento que desea cambiar: \")\n",
    "        if key in dic:\n",
    "            nuevo=input(\"Ingrese el cambio del elemento: \")\n",
    "            dic[key]=[nuevo]\n",
    "            print(\"Correccion completada :)\")\n",
    "        else:\n",
    "            print(\"ERROR: no se encontro esa clave\")\n",
    "    if op==\"4\":\n",
    "        print(\" *BORRAR ELEMENTO*\")\n",
    "        key=input(\"Escriba la clave del dato que quiera eliminar: \")\n",
    "        dic.pop(key)\n",
    "        print(\"Opcion completada\")\n",
    "    if op==\"5\":\n",
    "        print(\" *MOSTRAR EL DICCIONARIO*\")\n",
    "        for key in dic:\n",
    "          print(key,\"=\",dic[key])\n",
    "    if op==\"6\":\n",
    "        print(\" *SALIR*\")\n",
    "        break\n",
    "else:\n",
    "    print(\"ERROR: Opcion no valida, intente de nuevo :s\")\n",
    "\n",
    "\n",
    "        \n"
   ]
  },
  {
   "cell_type": "code",
   "execution_count": null,
   "id": "982fbf29-3104-40ff-81ff-02e20311ba24",
   "metadata": {},
   "outputs": [],
   "source": []
  }
 ],
 "metadata": {
  "kernelspec": {
   "display_name": "Python 3 (ipykernel)",
   "language": "python",
   "name": "python3"
  },
  "language_info": {
   "codemirror_mode": {
    "name": "ipython",
    "version": 3
   },
   "file_extension": ".py",
   "mimetype": "text/x-python",
   "name": "python",
   "nbconvert_exporter": "python",
   "pygments_lexer": "ipython3",
   "version": "3.12.0"
  }
 },
 "nbformat": 4,
 "nbformat_minor": 5
}

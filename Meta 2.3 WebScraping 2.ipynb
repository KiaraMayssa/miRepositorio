{
 "cells": [
  {
   "cell_type": "code",
   "execution_count": 6,
   "id": "4e76eef7-f02a-43eb-8d27-36a5aae3d120",
   "metadata": {},
   "outputs": [
    {
     "name": "stdout",
     "output_type": "stream",
     "text": [
      "       0                                1      2      3      4      5      6  \\\n",
      "0      1                        Finlandia  7.804  1.888  1.585  0.535  0.772   \n",
      "1      2                        Dinamarca  7.586  1.949  1.548  0.537  0.734   \n",
      "2      3                         Islandia  7.530  1.926  1.620  0.559  0.738   \n",
      "3      4                           Israel  7.473  1.833  1.521  0.577  0.569   \n",
      "4      5                     Países Bajos  7.403  1.942  1.488  0.545  0.672   \n",
      "..   ...                              ...    ...    ...    ...    ...    ...   \n",
      "132  133  República Democrática del Congo  3.207  0.531  0.784  0.105  0.375   \n",
      "133  134                         Zimbabue  3.204  0.758  0.881  0.069  0.363   \n",
      "134  135                     Sierra Leona  3.138  0.670  0.540  0.092  0.371   \n",
      "135  136                           Líbano  2.392  1.417  0.476  0.398  0.123   \n",
      "136  137                       Afganistán  1.859  0.645  0.000  0.087  0.000   \n",
      "\n",
      "         7      8  \n",
      "0    0.126  0.535  \n",
      "1    0.208  0.525  \n",
      "2    0.250  0.187  \n",
      "3    0.124  0.158  \n",
      "4    0.251  0.394  \n",
      "..     ...    ...  \n",
      "132  0.183  0.068  \n",
      "133  0.112  0.117  \n",
      "134  0.193  0.051  \n",
      "135  0.061   0.02  \n",
      "136  0.093  0.059  \n",
      "\n",
      "[137 rows x 9 columns]\n"
     ]
    }
   ],
   "source": [
    "import requests\n",
    "from bs4 import BeautifulSoup\n",
    "import pandas as pd\n",
    "\n",
    "url = \"https://es.wikipedia.org/wiki/%C3%8Dndice_global_de_felicidad\"\n",
    "response = requests.get(url)\n",
    "html = response.text\n",
    "soup = BeautifulSoup(html, \"html.parser\")\n",
    "table = soup.find(\"table\", class_=\"wikitable sortable\")\n",
    "data = []\n",
    "\n",
    "for row in table.find_all(\"tr\"):\n",
    "    cells = row.find_all(\"td\")\n",
    "    if cells:\n",
    "        data.append([cell.get_text(strip=True) for cell in cells])\n",
    "\n",
    "df = pd.DataFrame(data)\n",
    "print(df)"
   ]
  },
  {
   "cell_type": "code",
   "execution_count": null,
   "id": "00937999-7d05-4a6f-aa93-ad4c4d34162d",
   "metadata": {},
   "outputs": [],
   "source": []
  }
 ],
 "metadata": {
  "kernelspec": {
   "display_name": "Python 3 (ipykernel)",
   "language": "python",
   "name": "python3"
  },
  "language_info": {
   "codemirror_mode": {
    "name": "ipython",
    "version": 3
   },
   "file_extension": ".py",
   "mimetype": "text/x-python",
   "name": "python",
   "nbconvert_exporter": "python",
   "pygments_lexer": "ipython3",
   "version": "3.12.0"
  }
 },
 "nbformat": 4,
 "nbformat_minor": 5
}

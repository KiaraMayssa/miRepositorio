{
 "cells": [
  {
   "cell_type": "code",
   "execution_count": 1,
   "id": "fbfb0c50-19dc-46c7-b33e-c8f6bf276625",
   "metadata": {},
   "outputs": [
    {
     "name": "stdout",
     "output_type": "stream",
     "text": [
      "            MENU\n",
      "1-Agregar\n",
      "2-Quitar\n",
      "3-Mostrar\n",
      "4-Salir\n"
     ]
    },
    {
     "name": "stdin",
     "output_type": "stream",
     "text": [
      "Qué opción desea realizar?  1\n"
     ]
    },
    {
     "name": "stdout",
     "output_type": "stream",
     "text": [
      "    AGREGAR\n"
     ]
    },
    {
     "name": "stdin",
     "output_type": "stream",
     "text": [
      "Escriba los datos que quiera agregar:  1\n",
      "Escriba los datos que quiera agregar:  2\n",
      "Escriba los datos que quiera agregar:  3\n",
      "Escriba los datos que quiera agregar:  4\n",
      "Escriba los datos que quiera agregar:  5\n",
      "Qué opción desea realizar?  2\n"
     ]
    },
    {
     "name": "stdout",
     "output_type": "stream",
     "text": [
      "     QUITAR\n"
     ]
    },
    {
     "name": "stdin",
     "output_type": "stream",
     "text": [
      "Escriba el dato que quiera eliminar:  1\n",
      "Qué opción desea realizar?  3\n"
     ]
    },
    {
     "name": "stdout",
     "output_type": "stream",
     "text": [
      "     MOSTRAR\n",
      "[2, 3, 4, 5]\n"
     ]
    },
    {
     "name": "stdin",
     "output_type": "stream",
     "text": [
      "Qué opción desea realizar?  4\n"
     ]
    },
    {
     "name": "stdout",
     "output_type": "stream",
     "text": [
      "     SALIR\n"
     ]
    }
   ],
   "source": [
    "print(\"            MENU\")\n",
    "print(\"1-Agregar\")\n",
    "print(\"2-Quitar\")\n",
    "print(\"3-Mostrar\")\n",
    "print(\"4-Salir\")\n",
    "lista=[]\n",
    "while True:\n",
    "    op=input(\"Qué opción desea realizar? \")\n",
    "    if op==\"1\":\n",
    "        print(\"    AGREGAR\")\n",
    "        for i in range(5):\n",
    "            d=int(input(\"Escriba los datos que quiera agregar: \"))\n",
    "            lista.append(d)\n",
    "    if op==\"2\":\n",
    "        print(\"     QUITAR\")\n",
    "        d=int(input(\"Escriba el dato que quiera eliminar: \"))\n",
    "        if d in lista:\n",
    "            lista.remove(d)\n",
    "    if op==\"3\":\n",
    "        print(\"     MOSTRAR\")\n",
    "        print(lista)\n",
    "    if op==\"4\":\n",
    "        print(\"     SALIR\")\n",
    "        break\n",
    "else:\n",
    "    print(\"ERROR: Opción no válida. Intente de nuevo.\")"
   ]
  },
  {
   "cell_type": "code",
   "execution_count": null,
   "id": "43a25765-2929-4439-80fd-0e8a60b3593b",
   "metadata": {},
   "outputs": [],
   "source": []
  }
 ],
 "metadata": {
  "kernelspec": {
   "display_name": "Python 3 (ipykernel)",
   "language": "python",
   "name": "python3"
  },
  "language_info": {
   "codemirror_mode": {
    "name": "ipython",
    "version": 3
   },
   "file_extension": ".py",
   "mimetype": "text/x-python",
   "name": "python",
   "nbconvert_exporter": "python",
   "pygments_lexer": "ipython3",
   "version": "3.12.0"
  }
 },
 "nbformat": 4,
 "nbformat_minor": 5
}
